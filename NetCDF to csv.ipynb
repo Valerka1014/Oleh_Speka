{
 "cells": [
  {
   "cell_type": "code",
   "execution_count": 1,
   "metadata": {},
   "outputs": [],
   "source": [
    "from netCDF4 import Dataset\n",
    "import pandas as pd\n",
    "import numpy as np"
   ]
  },
  {
   "cell_type": "code",
   "execution_count": 52,
   "metadata": {},
   "outputs": [],
   "source": [
    "#Read netCDF file\n",
    "data = Dataset(r'data.nc')\n",
    "rsds = data.variables['rsds']\n",
    "lat = data.variables['lat']\n",
    "lon = data.variables['lon']\n",
    "\n",
    "#Read needed indexes\n",
    "df_coor = pd.read_csv('coors_inds.csv')\n",
    "#Modife indexes to use in slice segment of the NetCDF file\n",
    "df_coor['lat_ind-lat_ind_min'] = df_coor['lat_ind'] - df_coor['lat_ind'].min()\n",
    "df_coor['lon_ind-lon_ind_min'] = df_coor['lon_ind'] - df_coor['lon_ind'].min()\n",
    "\n",
    "#Cut needed segment of the NetCDF file\n",
    "lat_ind_min = df_coor['lat_ind'].min()\n",
    "lat_ind_max = df_coor['lat_ind'].max()\n",
    "lon_ind_min = df_coor['lon_ind'].min()\n",
    "lon_ind_max = df_coor['lon_ind'].max()\n",
    "rsds_cut = rsds[:,lat_ind_min:lat_ind_max+1,lon_ind_min:lon_ind_max+1]\n",
    "\n",
    "#Write rsds_cut into Dataframe\n",
    "date_range = pd.date_range(start = '2006-01-01', end = '2010-12-31')\n",
    "df = pd.DataFrame(index = date_range)\n",
    "for i in range(len(df_coor)):\n",
    "    lat_coor = round(float(lat[df_coor.iloc[i,0],df_coor.iloc[i,1]]), 3)\n",
    "    lon_coor = round(float(lon[df_coor.iloc[i,0],df_coor.iloc[i,1]]), 3)\n",
    "    df[f'{lat_coor}_{lon_coor}'] = rsds_cut[:,df_coor.iloc[i,2],df_coor.iloc[i,3]]\n",
    "\n",
    "df.to_csv('rsds_test.csv')\n",
    "\n"
   ]
  }
 ],
 "metadata": {
  "kernelspec": {
   "display_name": "Python [conda env:root] *",
   "language": "python",
   "name": "conda-root-py"
  },
  "language_info": {
   "codemirror_mode": {
    "name": "ipython",
    "version": 3
   },
   "file_extension": ".py",
   "mimetype": "text/x-python",
   "name": "python",
   "nbconvert_exporter": "python",
   "pygments_lexer": "ipython3",
   "version": "3.7.4"
  }
 },
 "nbformat": 4,
 "nbformat_minor": 2
}
